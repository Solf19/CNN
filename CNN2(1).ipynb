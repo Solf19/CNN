{
  "nbformat": 4,
  "nbformat_minor": 0,
  "metadata": {
    "colab": {
      "provenance": []
    },
    "kernelspec": {
      "name": "python3",
      "display_name": "Python 3"
    },
    "language_info": {
      "name": "python"
    }
  },
  "cells": [
    {
      "cell_type": "code",
      "execution_count": 11,
      "metadata": {
        "id": "s-nxoN8JLnLQ"
      },
      "outputs": [],
      "source": [
        "import torch\n",
        "from torch import nn\n",
        "from torch import optim\n",
        "import matplotlib.pyplot as plt\n",
        "import matplotlib.ticker as mtick\n",
        "import torchvision\n",
        "from statistics import mean"
      ]
    },
    {
      "cell_type": "code",
      "source": [
        "device = torch.device(\"cuda:0\" if torch.cuda.is_available() else \"cpu\")\n",
        "\n",
        "print(device)"
      ],
      "metadata": {
        "colab": {
          "base_uri": "https://localhost:8080/"
        },
        "id": "gsB7gyguNhoB",
        "outputId": "931222e2-8693-4805-81e9-e664f03de066"
      },
      "execution_count": 12,
      "outputs": [
        {
          "output_type": "stream",
          "name": "stdout",
          "text": [
            "cpu\n"
          ]
        }
      ]
    },
    {
      "cell_type": "code",
      "source": [
        "input_dim = 28*28\n",
        "hidden_dim = 10\n",
        "out_dim = 10\n",
        "\n",
        "\n",
        "class ConvolutionalNetwork(nn.Module):\n",
        "\n",
        "  def __init__(self, input_dim, out_dim):\n",
        "\n",
        "    super(ConvolutionalNetwork, self).__init__()\n",
        "    # Convolutional Neural Network Layer\n",
        "    self.convolutaional_neural_network_layers = nn.Sequential(\n",
        "                            nn.Conv2d(in_channels=1, out_channels=5, kernel_size=(3,3), padding=1, stride=1), # (N, 1, 28, 28)\n",
        "                            nn.ReLU(),\n",
        "                            nn.MaxPool2d(kernel_size=2, stride=2, padding=0),\n",
        "                            nn.Conv2d(in_channels=5, out_channels=5, kernel_size=(3,3), padding=1, stride=1),\n",
        "                            nn.ReLU(),\n",
        "                            nn.MaxPool2d(kernel_size=2, stride=2, padding=0)\n",
        "        )\n",
        "\n",
        "    # Linear layer\n",
        "    self.linear_layers = nn.Sequential(\n",
        "                nn.Dropout(p=0.2), # Dropout with probability of 0.2 to avoid overfitting\n",
        "                nn.Linear(in_features=5*7*7, out_features=out_dim),\n",
        "        )\n",
        "\n",
        "    #Softmax\n",
        "    self.soft = nn.Softmax(dim=1)\n",
        "\n",
        "\n",
        "  # Defining the forward pass\n",
        "  def forward(self, x):\n",
        "        x = self.convolutaional_neural_network_layers(x)\n",
        "        x = x.view(x.size(0), -1)  # Flatten the tensor for the linear layer\n",
        "        x = self.linear_layers(x)\n",
        "\n",
        "        x = self.soft(x)\n",
        "\n",
        "        return x"
      ],
      "metadata": {
        "id": "go51-Cn1Nhl2"
      },
      "execution_count": 13,
      "outputs": []
    },
    {
      "cell_type": "code",
      "source": [
        "model = ConvolutionalNetwork(input_dim, out_dim).to(device)\n",
        "\n",
        "if device.type != \"cpu\":\n",
        "  model = torch.compile(model)\n",
        "else:\n",
        "  model = torch.compile(model, mode = \"max-autotune-no-cudagraphs\", dynamic=True)\n"
      ],
      "metadata": {
        "id": "nDwWxyexNhii"
      },
      "execution_count": 14,
      "outputs": []
    },
    {
      "cell_type": "code",
      "source": [
        "loss_function = nn.CrossEntropyLoss()"
      ],
      "metadata": {
        "id": "JuhdWm7SNhc2"
      },
      "execution_count": 15,
      "outputs": []
    },
    {
      "cell_type": "code",
      "source": [
        "def accuracy(y_pred, y):\n",
        "\n",
        "  pred = y_pred.detach().argmax(dim=1)\n",
        "  corrects = (pred == y)\n",
        "\n",
        "  accuracy = (corrects.sum()/corrects.size(0)).float()\n",
        "\n",
        "  return accuracy\n",
        "\n",
        "def evaluate(model, train_loader, test_loader):\n",
        "\n",
        "  # initialize the accuracy as 0\n",
        "\n",
        "  acc_train, acc_test = 0, 0\n",
        "\n",
        "  with torch.no_grad():\n",
        "\n",
        "    for x_train, y_train in train_loader:\n",
        "\n",
        "      x_train, y_train = x_train.to(device), y_train.to(device)        # remember that we need to load our data into the GPUs\n",
        "\n",
        "      out = model(x_train).squeeze()\n",
        "      acc_train += accuracy(out, y_train)\n",
        "\n",
        "    for x_test, y_test in test_loader:\n",
        "\n",
        "      x_test, y_test = x_test.to(device), y_test.to(device)\n",
        "\n",
        "      out = model(x_test).squeeze()\n",
        "      acc_test += accuracy(out, y_test)\n",
        "\n",
        "    acc_train, acc_test = acc_train / len(train_loader), acc_test / len(test_loader)\n",
        "\n",
        "  return float(acc_train.detach()) * 100, float(acc_test.detach()) * 100\n",
        "\n",
        "def train(model, x, y):\n",
        "\n",
        "  out = model(x)\n",
        "  loss = loss_function(out.squeeze(), y)\n",
        "\n",
        "  optimizer.zero_grad()\n",
        "  loss.backward()\n",
        "\n",
        "  optimizer.step()\n",
        "  return float(loss)\n",
        "\n",
        "if device.type != \"cpu\":\n",
        "  accuracy = torch.compile(accuracy)\n",
        "  train = torch.compile(train)\n",
        "else:\n",
        "  accuracy = torch.compile(accuracy, mode = \"max-autotune-no-cudagraphs\", dynamic=True)\n",
        "  train = torch.compile(train, mode = \"max-autotune-no-cudagraphs\", dynamic=True)\n"
      ],
      "metadata": {
        "id": "Mi2AXD3-Nhae"
      },
      "execution_count": 16,
      "outputs": []
    },
    {
      "cell_type": "code",
      "source": [
        "class EarlyStopping:\n",
        "  def __init__(self, patience=5, delta=0, verbose=False, path='checkpoint.pt'):\n",
        "    self.patience = patience       # Number of epochs to wait for improvement\n",
        "    self.delta = delta             # Minimum change in monitored metric to qualify as improvement\n",
        "    self.verbose = verbose         # If True, print a message when validation metric improves\n",
        "    self.path = path               # Path to save the model checkpoint\n",
        "    self.counter = 0               # Counter to track epochs without improvement\n",
        "    self.best_score = None         # Best validation metric achieved so far\n",
        "    self.early_stop = False        # Flag to indicate whether to stop training\n",
        "\n",
        "  def __call__(self, val_metric, model):\n",
        "    if self.best_score is None:\n",
        "      self.best_score = val_metric\n",
        "      self.save_checkpoint(model)\n",
        "    elif val_metric > self.best_score + self.delta:\n",
        "      self.counter += 1\n",
        "      if self.verbose:\n",
        "        print(f'Epochs without improvement: {self.counter}')\n",
        "      if self.counter >= self.patience:\n",
        "                self.early_stop = True\n",
        "    else:\n",
        "      self.best_score = val_metric\n",
        "      self.save_checkpoint(model)\n",
        "      self.counter = 0\n",
        "\n",
        "  def save_checkpoint(self, model):\n",
        "    torch.save(model.state_dict(), self.path)\n"
      ],
      "metadata": {
        "id": "32tabTe3NhXl"
      },
      "execution_count": 17,
      "outputs": []
    },
    {
      "cell_type": "code",
      "source": [
        "! mkdir /content/.checkpoints"
      ],
      "metadata": {
        "colab": {
          "base_uri": "https://localhost:8080/"
        },
        "id": "EA6OVoYeUseS",
        "outputId": "5231e547-f84c-4fb6-ba67-71ed0efa95d4"
      },
      "execution_count": 18,
      "outputs": [
        {
          "output_type": "stream",
          "name": "stdout",
          "text": [
            "mkdir: cannot create directory ‘/content/.checkpoints’: File exists\n"
          ]
        }
      ]
    },
    {
      "cell_type": "code",
      "source": [
        "n_train = 2004\n",
        "n_test = 500\n",
        "ratio = 12\n",
        "\n",
        "batch_size_train = 144\n",
        "batch_size_test = n_test\n",
        "\n",
        "transform = torchvision.transforms.Compose([\n",
        "                               torchvision.transforms.ToTensor(),\n",
        "                               torchvision.transforms.Normalize(\n",
        "                                 (0.1307,), (0.3081,))\n",
        "                             ])\n",
        "## TEST SET\n",
        "\n",
        "dataset_test =  torchvision.datasets.MNIST('./files/', train=False, download=True,\n",
        "                             transform=transform)\n",
        "\n",
        "dataset_test.data, dataset_test.targets = dataset_test.data[:n_test], dataset_test.targets[:n_test]\n",
        "\n",
        "test_loader = torch.utils.data.DataLoader(dataset_test, batch_size = batch_size_test, shuffle = False)\n"
      ],
      "metadata": {
        "colab": {
          "base_uri": "https://localhost:8080/"
        },
        "id": "wfRpFBJ3NhVC",
        "outputId": "5e5993e5-f241-4dbf-a98b-a36a965ac1c8"
      },
      "execution_count": 19,
      "outputs": [
        {
          "output_type": "stream",
          "name": "stdout",
          "text": [
            "Downloading http://yann.lecun.com/exdb/mnist/train-images-idx3-ubyte.gz\n",
            "Failed to download (trying next):\n",
            "HTTP Error 403: Forbidden\n",
            "\n",
            "Downloading https://ossci-datasets.s3.amazonaws.com/mnist/train-images-idx3-ubyte.gz\n",
            "Downloading https://ossci-datasets.s3.amazonaws.com/mnist/train-images-idx3-ubyte.gz to ./files/MNIST/raw/train-images-idx3-ubyte.gz\n"
          ]
        },
        {
          "output_type": "stream",
          "name": "stderr",
          "text": [
            "100%|██████████| 9912422/9912422 [00:00<00:00, 18301826.96it/s]\n"
          ]
        },
        {
          "output_type": "stream",
          "name": "stdout",
          "text": [
            "Extracting ./files/MNIST/raw/train-images-idx3-ubyte.gz to ./files/MNIST/raw\n",
            "\n",
            "Downloading http://yann.lecun.com/exdb/mnist/train-labels-idx1-ubyte.gz\n",
            "Failed to download (trying next):\n",
            "HTTP Error 403: Forbidden\n",
            "\n",
            "Downloading https://ossci-datasets.s3.amazonaws.com/mnist/train-labels-idx1-ubyte.gz\n",
            "Downloading https://ossci-datasets.s3.amazonaws.com/mnist/train-labels-idx1-ubyte.gz to ./files/MNIST/raw/train-labels-idx1-ubyte.gz\n"
          ]
        },
        {
          "output_type": "stream",
          "name": "stderr",
          "text": [
            "100%|██████████| 28881/28881 [00:00<00:00, 1081829.49it/s]\n"
          ]
        },
        {
          "output_type": "stream",
          "name": "stdout",
          "text": [
            "Extracting ./files/MNIST/raw/train-labels-idx1-ubyte.gz to ./files/MNIST/raw\n",
            "\n",
            "Downloading http://yann.lecun.com/exdb/mnist/t10k-images-idx3-ubyte.gz\n",
            "Failed to download (trying next):\n",
            "HTTP Error 403: Forbidden\n",
            "\n",
            "Downloading https://ossci-datasets.s3.amazonaws.com/mnist/t10k-images-idx3-ubyte.gz\n",
            "Downloading https://ossci-datasets.s3.amazonaws.com/mnist/t10k-images-idx3-ubyte.gz to ./files/MNIST/raw/t10k-images-idx3-ubyte.gz\n"
          ]
        },
        {
          "output_type": "stream",
          "name": "stderr",
          "text": [
            "100%|██████████| 1648877/1648877 [00:00<00:00, 7111580.76it/s]\n"
          ]
        },
        {
          "output_type": "stream",
          "name": "stdout",
          "text": [
            "Extracting ./files/MNIST/raw/t10k-images-idx3-ubyte.gz to ./files/MNIST/raw\n",
            "\n",
            "Downloading http://yann.lecun.com/exdb/mnist/t10k-labels-idx1-ubyte.gz\n",
            "Failed to download (trying next):\n",
            "HTTP Error 403: Forbidden\n",
            "\n",
            "Downloading https://ossci-datasets.s3.amazonaws.com/mnist/t10k-labels-idx1-ubyte.gz\n",
            "Downloading https://ossci-datasets.s3.amazonaws.com/mnist/t10k-labels-idx1-ubyte.gz to ./files/MNIST/raw/t10k-labels-idx1-ubyte.gz\n"
          ]
        },
        {
          "output_type": "stream",
          "name": "stderr",
          "text": [
            "100%|██████████| 4542/4542 [00:00<00:00, 2607161.46it/s]"
          ]
        },
        {
          "output_type": "stream",
          "name": "stdout",
          "text": [
            "Extracting ./files/MNIST/raw/t10k-labels-idx1-ubyte.gz to ./files/MNIST/raw\n",
            "\n"
          ]
        },
        {
          "output_type": "stream",
          "name": "stderr",
          "text": [
            "\n"
          ]
        }
      ]
    },
    {
      "cell_type": "code",
      "source": [
        "train_losses = []\n",
        "train_accuracies = []\n",
        "test_accuracies = []\n",
        "\n",
        "\n",
        "for i in range (1,ratio):\n",
        "  for j in range (10):\n",
        "    ## TRAIN SET\n",
        "\n",
        "    n_train_loop = int(n_train * i / ratio)\n",
        "\n",
        "    batch_size_train_loop = int(batch_size_train * i / ratio)\n",
        "\n",
        "    dataset_train = torchvision.datasets.MNIST('./files/', train=True, download=True,\n",
        "                                transform=transform)\n",
        "\n",
        "    dataset_train.data, dataset_train.targets = dataset_train.data[:n_train_loop], dataset_train.targets[:n_train_loop]\n",
        "\n",
        "    train_loader = torch.utils.data.DataLoader(dataset_train, batch_size = batch_size_train_loop,\n",
        "                                                shuffle = True,  drop_last = True)\n",
        "    EPOCHS = 101\n",
        "\n",
        "\n",
        "\n",
        "    learning_rate = 0.1\n",
        "    optimizer = torch.optim.SGD(model.parameters(), lr = learning_rate)\n",
        "    early_stopping = EarlyStopping(patience=4, verbose=True, path='/content/.checkpoints/model_checkpoint.pt')\n",
        "    train_acc_avarage = []\n",
        "    test_acc_avarage = []\n",
        "\n",
        "    for epoch in range(1,EPOCHS):\n",
        "\n",
        "      train_loss = 0\n",
        "\n",
        "      ## TRAIN STEP\n",
        "\n",
        "      for x_train, y_train in train_loader:\n",
        "\n",
        "        x_train, y_train = x_train.to(device), y_train.to(device)\n",
        "\n",
        "\n",
        "        loss = train(model, x_train, y_train)\n",
        "\n",
        "        train_loss += loss\n",
        "\n",
        "      train_loss /= len(train_loader)                    # we divide by the number of batches\n",
        "      train_losses.append(train_loss)\n",
        "\n",
        "      ## TEST STEP\n",
        "\n",
        "      if epoch % 100 == 0:\n",
        "\n",
        "        train_acc, test_acc = evaluate(model, train_loader, test_loader)\n",
        "\n",
        "        train_acc_avarage.append(train_acc)\n",
        "        test_acc_avarage.append(test_acc)\n",
        "\n",
        "        print(\"Epoch:\", epoch, \"Loss:\", float(train_loss))\n",
        "\n",
        "      if early_stopping.early_stop:\n",
        "        train_acc, test_acc = evaluate(model, train_loader, test_loader)\n",
        "\n",
        "        train_acc_a\n",
        "        varage.append(train_acc)\n",
        "        test_acc_avarage.append(test_acc)\n",
        "        print(\"Early stopping triggered.\")\n",
        "        break\n",
        "\n",
        "  train_acc_av = mean(train_acc_avarage)\n",
        "  test_acc_av = mean(test_acc_avarage)\n",
        "  train_accuracies.append(train_acc_av)\n",
        "  test_accuracies.append(test_acc_av)\n"
      ],
      "metadata": {
        "colab": {
          "base_uri": "https://localhost:8080/"
        },
        "id": "0SPkkhVhNhSo",
        "outputId": "c371cd15-286c-4b8b-ccfa-ed73b5af4e22"
      },
      "execution_count": 20,
      "outputs": [
        {
          "metadata": {
            "tags": null
          },
          "name": "stderr",
          "output_type": "stream",
          "text": [
            "No CUDA runtime is found, using CUDA_HOME='/usr/local/cuda'\n",
            "W0528 13:07:20.864000 132200831651840 torch/_logging/_internal.py:1013] [2/0] Profiler function <class 'torch.autograd.profiler.record_function'> will be ignored\n"
          ]
        },
        {
          "metadata": {
            "tags": null
          },
          "name": "stdout",
          "output_type": "stream",
          "text": [
            "Epoch: 100 Loss: 1.62327817770151\n",
            "Epoch: 100 Loss: 1.6047836175331702\n",
            "Epoch: 100 Loss: 1.601434405033405\n"
          ]
        },
        {
          "metadata": {
            "tags": null
          },
          "name": "stderr",
          "output_type": "stream",
          "text": [
            "W0528 13:08:25.888000 132200831651840 torch/_dynamo/convert_frame.py:357] torch._dynamo hit config.cache_size_limit (8)\n",
            "W0528 13:08:25.888000 132200831651840 torch/_dynamo/convert_frame.py:357]    function: 'step' (/usr/local/lib/python3.10/dist-packages/torch/optim/sgd.py:60)\n",
            "W0528 13:08:25.888000 132200831651840 torch/_dynamo/convert_frame.py:357]    last reason: len(L['self'].state) == 6                                   \n",
            "W0528 13:08:25.888000 132200831651840 torch/_dynamo/convert_frame.py:357] To log all recompilation reasons, use TORCH_LOGS=\"recompiles\".\n",
            "W0528 13:08:25.888000 132200831651840 torch/_dynamo/convert_frame.py:357] To diagnose recompilation issues, see https://pytorch.org/docs/master/compile/troubleshooting.html.\n"
          ]
        },
        {
          "output_type": "stream",
          "name": "stdout",
          "text": [
            "Epoch: 100 Loss: 1.5519078236359816\n",
            "Epoch: 100 Loss: 1.5569831132888794\n",
            "Epoch: 100 Loss: 1.5372127569638765\n",
            "Epoch: 100 Loss: 1.5443126971905048\n",
            "Epoch: 100 Loss: 1.5561950298456044\n",
            "Epoch: 100 Loss: 1.5499508931086614\n",
            "Epoch: 100 Loss: 1.556643403493441\n",
            "Epoch: 100 Loss: 1.5686463392697847\n",
            "Epoch: 100 Loss: 1.5631244641083937\n",
            "Epoch: 100 Loss: 1.5646204948425293\n",
            "Epoch: 100 Loss: 1.564197668662438\n",
            "Epoch: 100 Loss: 1.5640068787794847\n",
            "Epoch: 100 Loss: 1.5570259461036096\n",
            "Epoch: 100 Loss: 1.5621098555051363\n",
            "Epoch: 100 Loss: 1.556563377380371\n",
            "Epoch: 100 Loss: 1.563063566501324\n",
            "Epoch: 100 Loss: 1.560987921861502\n",
            "Epoch: 100 Loss: 1.5768159536214976\n",
            "Epoch: 100 Loss: 1.569818405004648\n",
            "Epoch: 100 Loss: 1.5676246239588811\n",
            "Epoch: 100 Loss: 1.5730634010755098\n",
            "Epoch: 100 Loss: 1.5715725880402784\n",
            "Epoch: 100 Loss: 1.5693779908693755\n",
            "Epoch: 100 Loss: 1.5746067212178156\n",
            "Epoch: 100 Loss: 1.5650664292849028\n",
            "Epoch: 100 Loss: 1.5668478653981135\n",
            "Epoch: 100 Loss: 1.5626386954234197\n",
            "Epoch: 100 Loss: 1.5741471602366521\n",
            "Epoch: 100 Loss: 1.5700070491203895\n",
            "Epoch: 100 Loss: 1.5746352214079637\n",
            "Epoch: 100 Loss: 1.5730108389487634\n",
            "Epoch: 100 Loss: 1.5759647351044874\n",
            "Epoch: 100 Loss: 1.5667286927883441\n",
            "Epoch: 100 Loss: 1.5713637333649855\n",
            "Epoch: 100 Loss: 1.5680574637192946\n",
            "Epoch: 100 Loss: 1.573724077298091\n",
            "Epoch: 100 Loss: 1.5602425611936128\n",
            "Epoch: 100 Loss: 1.5689455729264479\n",
            "Epoch: 100 Loss: 1.5784441049282367\n",
            "Epoch: 100 Loss: 1.5687659061872041\n",
            "Epoch: 100 Loss: 1.567230068720304\n",
            "Epoch: 100 Loss: 1.568638957463778\n",
            "Epoch: 100 Loss: 1.5685542730184703\n",
            "Epoch: 100 Loss: 1.5730763857181256\n",
            "Epoch: 100 Loss: 1.5650736001821666\n",
            "Epoch: 100 Loss: 1.5698002668527455\n",
            "Epoch: 100 Loss: 1.5661931679799006\n",
            "Epoch: 100 Loss: 1.5735141405692468\n",
            "Epoch: 100 Loss: 1.5691402875460112\n",
            "Epoch: 100 Loss: 1.5694374763048613\n",
            "Epoch: 100 Loss: 1.5689083062685454\n",
            "Epoch: 100 Loss: 1.5663432616453905\n",
            "Epoch: 100 Loss: 1.5652174582848182\n",
            "Epoch: 100 Loss: 1.5675031130130475\n",
            "Epoch: 100 Loss: 1.567658754495474\n",
            "Epoch: 100 Loss: 1.5676180857878466\n",
            "Epoch: 100 Loss: 1.5639900060800405\n",
            "Epoch: 100 Loss: 1.5649752800281231\n",
            "Epoch: 100 Loss: 1.572230889247014\n",
            "Epoch: 100 Loss: 1.567134719628554\n",
            "Epoch: 100 Loss: 1.5676428721501277\n",
            "Epoch: 100 Loss: 1.5622531725810125\n",
            "Epoch: 100 Loss: 1.5658594003090491\n",
            "Epoch: 100 Loss: 1.5673379256175115\n",
            "Epoch: 100 Loss: 1.5654173906032856\n",
            "Epoch: 100 Loss: 1.5669824343461256\n",
            "Epoch: 100 Loss: 1.5598338567293608\n",
            "Epoch: 100 Loss: 1.5643613613568819\n",
            "Epoch: 100 Loss: 1.5693395871382494\n",
            "Epoch: 100 Loss: 1.5655951316540058\n",
            "Epoch: 100 Loss: 1.566925516495338\n",
            "Epoch: 100 Loss: 1.5669717238499568\n",
            "Epoch: 100 Loss: 1.563416783626263\n",
            "Epoch: 100 Loss: 1.5672832452333891\n",
            "Epoch: 100 Loss: 1.4709413235004132\n",
            "Epoch: 100 Loss: 1.4688572241709783\n",
            "Epoch: 100 Loss: 1.4690652627211351\n",
            "Epoch: 100 Loss: 1.4708136595212495\n",
            "Epoch: 100 Loss: 1.4677679813825166\n",
            "Epoch: 100 Loss: 1.4714281558990479\n",
            "Epoch: 100 Loss: 1.4673822476313665\n",
            "Epoch: 100 Loss: 1.4682405545161321\n",
            "Epoch: 100 Loss: 1.4699261371905987\n",
            "Epoch: 100 Loss: 1.4675344503842866\n",
            "Epoch: 100 Loss: 1.4684462455602794\n",
            "Epoch: 100 Loss: 1.4669997508709247\n",
            "Epoch: 100 Loss: 1.4662199662281916\n",
            "Epoch: 100 Loss: 1.472274083357591\n",
            "Epoch: 100 Loss: 1.471225848564735\n",
            "Epoch: 100 Loss: 1.471361939723675\n",
            "Epoch: 100 Loss: 1.4694756269454956\n",
            "Epoch: 100 Loss: 1.4695665286137507\n",
            "Epoch: 100 Loss: 1.469707654072688\n",
            "Epoch: 100 Loss: 1.468192430642935\n",
            "Epoch: 100 Loss: 1.4682930066035345\n",
            "Epoch: 100 Loss: 1.4673388462800245\n",
            "Epoch: 100 Loss: 1.4687626728644738\n",
            "Epoch: 100 Loss: 1.4701224932303796\n",
            "Epoch: 100 Loss: 1.468541567142193\n",
            "Epoch: 100 Loss: 1.467432636481065\n",
            "Epoch: 100 Loss: 1.4695705633897047\n",
            "Epoch: 100 Loss: 1.4677843405650213\n",
            "Epoch: 100 Loss: 1.4694547653198242\n",
            "Epoch: 100 Loss: 1.4695587708399847\n",
            "Epoch: 100 Loss: 1.4663119591199434\n",
            "Epoch: 100 Loss: 1.4662001774861262\n",
            "Epoch: 100 Loss: 1.4700866754238422\n"
          ]
        }
      ]
    },
    {
      "cell_type": "code",
      "source": [
        "data = [n_train * i/ratio for i in range(1, ratio)]\n",
        "\n",
        "plt.plot(data, train_accuracies, label = \"Train\")\n",
        "plt.plot(data, test_accuracies, label = \"Test\")\n",
        "\n",
        "plt.xlabel(\"Data\")\n",
        "plt.ylabel(\"Accuracy\")\n",
        "\n",
        "\n",
        "plt.legend()\n",
        "\n",
        "plt.show()"
      ],
      "metadata": {
        "colab": {
          "base_uri": "https://localhost:8080/",
          "height": 469
        },
        "id": "tGzOryQhNhPC",
        "outputId": "2fb11b6e-6cc7-419d-80f2-1f36996de241"
      },
      "execution_count": 21,
      "outputs": [
        {
          "output_type": "display_data",
          "data": {
            "text/plain": [
              "<Figure size 640x480 with 1 Axes>"
            ],
            "image/png": "[encoded data removed]"
          },
          "metadata": {}
        }
      ]
    },
    {
      "cell_type": "code",
      "source": [
        "train_accuracies"
      ],
      "metadata": {
        "colab": {
          "base_uri": "https://localhost:8080/"
        },
        "id": "YtOKn-FDNhKR",
        "outputId": "5eb9b252-64c2-4bfa-c9a5-d9edd0519fe0"
      },
      "execution_count": 22,
      "outputs": [
        {
          "output_type": "execute_result",
          "data": {
            "text/plain": [
              "[91.02565050125122,\n",
              " 89.74359035491943,\n",
              " 89.52991962432861,\n",
              " 89.58333134651184,\n",
              " 88.97435665130615,\n",
              " 88.99571895599365,\n",
              " 89.83516097068787,\n",
              " 99.27884340286255,\n",
              " 99.43020343780518,\n",
              " 99.35897588729858,\n",
              " 99.53380227088928]"
            ]
          },
          "metadata": {},
          "execution_count": 22
        }
      ]
    },
    {
      "cell_type": "code",
      "source": [
        "test_accuracies"
      ],
      "metadata": {
        "colab": {
          "base_uri": "https://localhost:8080/"
        },
        "id": "aVt0WYCANhE6",
        "outputId": "c512a5ba-d78c-4957-bf13-711f3a1b7178"
      },
      "execution_count": 23,
      "outputs": [
        {
          "output_type": "execute_result",
          "data": {
            "text/plain": [
              "[72.60000109672546,\n",
              " 75.40000081062317,\n",
              " 79.40000295639038,\n",
              " 80.80000281333923,\n",
              " 81.99999928474426,\n",
              " 82.59999752044678,\n",
              " 82.20000267028809,\n",
              " 94.19999718666077,\n",
              " 93.99999976158142,\n",
              " 93.59999895095825,\n",
              " 94.9999988079071]"
            ]
          },
          "metadata": {},
          "execution_count": 23
        }
      ]
    },
    {
      "cell_type": "code",
      "source": [],
      "metadata": {
        "id": "KAXOWy8oG_LB"
      },
      "execution_count": 23,
      "outputs": []
    }
  ]
}