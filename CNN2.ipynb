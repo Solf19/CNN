{
  "nbformat": 4,
  "nbformat_minor": 0,
  "metadata": {
    "colab": {
      "provenance": []
    },
    "kernelspec": {
      "name": "python3",
      "display_name": "Python 3"
    },
    "language_info": {
      "name": "python"
    }
  },
  "cells": [
    {
      "cell_type": "code",
      "execution_count": 1,
      "metadata": {
        "id": "s-nxoN8JLnLQ"
      },
      "outputs": [],
      "source": [
        "import torch\n",
        "from torch import nn\n",
        "from torch import optim\n",
        "import matplotlib.pyplot as plt\n",
        "import matplotlib.ticker as mtick\n",
        "import torchvision\n",
        "from statistics import mean"
      ]
    },
    {
      "cell_type": "code",
      "source": [
        "device = torch.device(\"cuda:0\" if torch.cuda.is_available() else \"cpu\")\n",
        "\n",
        "print(device)"
      ],
      "metadata": {
        "colab": {
          "base_uri": "https://localhost:8080/"
        },
        "id": "gsB7gyguNhoB",
        "outputId": "ea4f12eb-7c59-4788-9392-516d23fa60ec"
      },
      "execution_count": 2,
      "outputs": [
        {
          "output_type": "stream",
          "name": "stdout",
          "text": [
            "cpu\n"
          ]
        }
      ]
    },
    {
      "cell_type": "code",
      "source": [
        "input_dim = 28*28\n",
        "hidden_dim = 10\n",
        "out_dim = 10\n",
        "\n",
        "\n",
        "class ConvolutionalNetwork(nn.Module):\n",
        "\n",
        "  def __init__(self, input_dim, out_dim):\n",
        "\n",
        "    super(ConvolutionalNetwork, self).__init__()\n",
        "    # Convolutional Neural Network Layer\n",
        "    self.convolutaional_neural_network_layers = nn.Sequential(\n",
        "                            nn.Conv2d(in_channels=1, out_channels=5, kernel_size=(3,3), padding=1, stride=1), # (N, 1, 28, 28)\n",
        "                            nn.ReLU(),\n",
        "                            nn.MaxPool2d(kernel_size=2, stride=2, padding=0),\n",
        "                            nn.Conv2d(in_channels=5, out_channels=5, kernel_size=(3,3), padding=1, stride=1),\n",
        "                            nn.ReLU(),\n",
        "                            nn.MaxPool2d(kernel_size=2, stride=2, padding=0)\n",
        "        )\n",
        "\n",
        "    # Linear layer\n",
        "    self.linear_layers = nn.Sequential(\n",
        "                nn.Dropout(p=0.2), # Dropout with probability of 0.2 to avoid overfitting\n",
        "                nn.Linear(in_features=5*7*7, out_features=out_dim),\n",
        "        )\n",
        "\n",
        "    #Softmax\n",
        "    self.soft = nn.Softmax(dim=1)\n",
        "\n",
        "\n",
        "  # Defining the forward pass\n",
        "  def forward(self, x):\n",
        "        x = self.convolutaional_neural_network_layers(x)\n",
        "        x = x.view(x.size(0), -1)  # Flatten the tensor for the linear layer\n",
        "        x = self.linear_layers(x)\n",
        "\n",
        "        x = self.soft(x)\n",
        "\n",
        "        return x"
      ],
      "metadata": {
        "id": "go51-Cn1Nhl2"
      },
      "execution_count": 3,
      "outputs": []
    },
    {
      "cell_type": "code",
      "source": [
        "model = ConvolutionalNetwork(input_dim, out_dim).to(device)\n",
        "\n",
        "if device.type != \"cpu\":\n",
        "  model = torch.compile(model)\n",
        "else:\n",
        "  model = torch.compile(model, mode = \"max-autotune-no-cudagraphs\", dynamic=True)\n"
      ],
      "metadata": {
        "id": "nDwWxyexNhii"
      },
      "execution_count": 4,
      "outputs": []
    },
    {
      "cell_type": "code",
      "source": [
        "loss_function = nn.CrossEntropyLoss()"
      ],
      "metadata": {
        "id": "JuhdWm7SNhc2"
      },
      "execution_count": 5,
      "outputs": []
    },
    {
      "cell_type": "code",
      "source": [
        "def accuracy(y_pred, y):\n",
        "\n",
        "  pred = y_pred.detach().argmax(dim=1)\n",
        "  corrects = (pred == y)\n",
        "\n",
        "  accuracy = (corrects.sum()/corrects.size(0)).float()\n",
        "\n",
        "  return accuracy\n",
        "\n",
        "def evaluate(model, train_loader, test_loader):\n",
        "\n",
        "  # initialize the accuracy as 0\n",
        "\n",
        "  acc_train, acc_test = 0, 0\n",
        "\n",
        "  with torch.no_grad():\n",
        "\n",
        "    for x_train, y_train in train_loader:\n",
        "\n",
        "      x_train, y_train = x_train.to(device), y_train.to(device)        # remember that we need to load our data into the GPUs\n",
        "\n",
        "      out = model(x_train).squeeze()\n",
        "      acc_train += accuracy(out, y_train)\n",
        "\n",
        "    for x_test, y_test in test_loader:\n",
        "\n",
        "      x_test, y_test = x_test.to(device), y_test.to(device)\n",
        "\n",
        "      out = model(x_test).squeeze()\n",
        "      acc_test += accuracy(out, y_test)\n",
        "\n",
        "    acc_train, acc_test = acc_train / len(train_loader), acc_test / len(test_loader)\n",
        "\n",
        "  return float(acc_train.detach()) * 100, float(acc_test.detach()) * 100\n",
        "\n",
        "def train(model, x, y):\n",
        "\n",
        "  out = model(x)\n",
        "  loss = loss_function(out.squeeze(), y)\n",
        "\n",
        "  optimizer.zero_grad()\n",
        "  loss.backward()\n",
        "\n",
        "  optimizer.step()\n",
        "  return float(loss)\n",
        "\n",
        "if device.type != \"cpu\":\n",
        "  accuracy = torch.compile(accuracy)\n",
        "  train = torch.compile(train)\n",
        "else:\n",
        "  accuracy = torch.compile(accuracy, mode = \"max-autotune-no-cudagraphs\", dynamic=True)\n",
        "  train = torch.compile(train, mode = \"max-autotune-no-cudagraphs\", dynamic=True)\n"
      ],
      "metadata": {
        "id": "Mi2AXD3-Nhae"
      },
      "execution_count": 6,
      "outputs": []
    },
    {
      "cell_type": "code",
      "source": [
        "class EarlyStopping:\n",
        "  def __init__(self, patience=5, delta=0, verbose=False, path='checkpoint.pt'):\n",
        "    self.patience = patience       # Number of epochs to wait for improvement\n",
        "    self.delta = delta             # Minimum change in monitored metric to qualify as improvement\n",
        "    self.verbose = verbose         # If True, print a message when validation metric improves\n",
        "    self.path = path               # Path to save the model checkpoint\n",
        "    self.counter = 0               # Counter to track epochs without improvement\n",
        "    self.best_score = None         # Best validation metric achieved so far\n",
        "    self.early_stop = False        # Flag to indicate whether to stop training\n",
        "\n",
        "  def __call__(self, val_metric, model):\n",
        "    if self.best_score is None:\n",
        "      self.best_score = val_metric\n",
        "      self.save_checkpoint(model)\n",
        "    elif val_metric > self.best_score + self.delta:\n",
        "      self.counter += 1\n",
        "      if self.verbose:\n",
        "        print(f'Epochs without improvement: {self.counter}')\n",
        "      if self.counter >= self.patience:\n",
        "                self.early_stop = True\n",
        "    else:\n",
        "      self.best_score = val_metric\n",
        "      self.save_checkpoint(model)\n",
        "      self.counter = 0\n",
        "\n",
        "  def save_checkpoint(self, model):\n",
        "    torch.save(model.state_dict(), self.path)\n"
      ],
      "metadata": {
        "id": "32tabTe3NhXl"
      },
      "execution_count": 7,
      "outputs": []
    },
    {
      "cell_type": "code",
      "source": [
        "! mkdir /content/.checkpoints"
      ],
      "metadata": {
        "id": "EA6OVoYeUseS"
      },
      "execution_count": 8,
      "outputs": []
    },
    {
      "cell_type": "code",
      "source": [
        "n_train = 2004\n",
        "n_test = 500\n",
        "ratio = 12\n",
        "\n",
        "batch_size_train = 144\n",
        "batch_size_test = n_test\n",
        "\n",
        "transform = torchvision.transforms.Compose([\n",
        "                               torchvision.transforms.ToTensor(),\n",
        "                               torchvision.transforms.Normalize(\n",
        "                                 (0.1307,), (0.3081,))\n",
        "                             ])\n",
        "## TEST SET\n",
        "\n",
        "dataset_test =  torchvision.datasets.MNIST('./files/', train=False, download=True,\n",
        "                             transform=transform)\n",
        "\n",
        "dataset_test.data, dataset_test.targets = dataset_test.data[:n_test], dataset_test.targets[:n_test]\n",
        "\n",
        "test_loader = torch.utils.data.DataLoader(dataset_test, batch_size = batch_size_test, shuffle = False)\n"
      ],
      "metadata": {
        "colab": {
          "base_uri": "https://localhost:8080/"
        },
        "id": "wfRpFBJ3NhVC",
        "outputId": "682f2b4c-d15c-4c5f-cefc-efa3b0c25599"
      },
      "execution_count": 9,
      "outputs": [
        {
          "output_type": "stream",
          "name": "stdout",
          "text": [
            "Downloading http://yann.lecun.com/exdb/mnist/train-images-idx3-ubyte.gz\n",
            "Failed to download (trying next):\n",
            "HTTP Error 403: Forbidden\n",
            "\n",
            "Downloading https://ossci-datasets.s3.amazonaws.com/mnist/train-images-idx3-ubyte.gz\n",
            "Downloading https://ossci-datasets.s3.amazonaws.com/mnist/train-images-idx3-ubyte.gz to ./files/MNIST/raw/train-images-idx3-ubyte.gz\n"
          ]
        },
        {
          "output_type": "stream",
          "name": "stderr",
          "text": [
            "100%|██████████| 9912422/9912422 [00:00<00:00, 18224042.63it/s]\n"
          ]
        },
        {
          "output_type": "stream",
          "name": "stdout",
          "text": [
            "Extracting ./files/MNIST/raw/train-images-idx3-ubyte.gz to ./files/MNIST/raw\n",
            "\n",
            "Downloading http://yann.lecun.com/exdb/mnist/train-labels-idx1-ubyte.gz\n",
            "Failed to download (trying next):\n",
            "HTTP Error 403: Forbidden\n",
            "\n",
            "Downloading https://ossci-datasets.s3.amazonaws.com/mnist/train-labels-idx1-ubyte.gz\n",
            "Downloading https://ossci-datasets.s3.amazonaws.com/mnist/train-labels-idx1-ubyte.gz to ./files/MNIST/raw/train-labels-idx1-ubyte.gz\n"
          ]
        },
        {
          "output_type": "stream",
          "name": "stderr",
          "text": [
            "100%|██████████| 28881/28881 [00:00<00:00, 1881544.15it/s]\n"
          ]
        },
        {
          "output_type": "stream",
          "name": "stdout",
          "text": [
            "Extracting ./files/MNIST/raw/train-labels-idx1-ubyte.gz to ./files/MNIST/raw\n",
            "\n",
            "Downloading http://yann.lecun.com/exdb/mnist/t10k-images-idx3-ubyte.gz\n",
            "Failed to download (trying next):\n",
            "HTTP Error 403: Forbidden\n",
            "\n",
            "Downloading https://ossci-datasets.s3.amazonaws.com/mnist/t10k-images-idx3-ubyte.gz\n",
            "Downloading https://ossci-datasets.s3.amazonaws.com/mnist/t10k-images-idx3-ubyte.gz to ./files/MNIST/raw/t10k-images-idx3-ubyte.gz\n"
          ]
        },
        {
          "output_type": "stream",
          "name": "stderr",
          "text": [
            "100%|██████████| 1648877/1648877 [00:01<00:00, 1400642.04it/s]\n"
          ]
        },
        {
          "output_type": "stream",
          "name": "stdout",
          "text": [
            "Extracting ./files/MNIST/raw/t10k-images-idx3-ubyte.gz to ./files/MNIST/raw\n",
            "\n",
            "Downloading http://yann.lecun.com/exdb/mnist/t10k-labels-idx1-ubyte.gz\n",
            "Failed to download (trying next):\n",
            "HTTP Error 403: Forbidden\n",
            "\n",
            "Downloading https://ossci-datasets.s3.amazonaws.com/mnist/t10k-labels-idx1-ubyte.gz\n",
            "Downloading https://ossci-datasets.s3.amazonaws.com/mnist/t10k-labels-idx1-ubyte.gz to ./files/MNIST/raw/t10k-labels-idx1-ubyte.gz\n"
          ]
        },
        {
          "output_type": "stream",
          "name": "stderr",
          "text": [
            "100%|██████████| 4542/4542 [00:00<00:00, 6449061.87it/s]"
          ]
        },
        {
          "output_type": "stream",
          "name": "stdout",
          "text": [
            "Extracting ./files/MNIST/raw/t10k-labels-idx1-ubyte.gz to ./files/MNIST/raw\n",
            "\n"
          ]
        },
        {
          "output_type": "stream",
          "name": "stderr",
          "text": [
            "\n"
          ]
        }
      ]
    },
    {
      "cell_type": "code",
      "source": [
        "train_losses = []\n",
        "train_accuracies = []\n",
        "test_accuracies = []\n",
        "\n",
        "\n",
        "for i in range (1,ratio):\n",
        "  for j in range (10):\n",
        "    ## TRAIN SET\n",
        "\n",
        "    n_train_loop = int(n_train * i / ratio)\n",
        "\n",
        "    batch_size_train_loop = int(batch_size_train * i / ratio)\n",
        "\n",
        "    dataset_train = torchvision.datasets.MNIST('./files/', train=True, download=True,\n",
        "                                transform=transform)\n",
        "\n",
        "    dataset_train.data, dataset_train.targets = dataset_train.data[:n_train_loop], dataset_train.targets[:n_train_loop]\n",
        "\n",
        "    train_loader = torch.utils.data.DataLoader(dataset_train, batch_size = batch_size_train_loop,\n",
        "                                                shuffle = True,  drop_last = True)\n",
        "    EPOCHS = 101\n",
        "\n",
        "\n",
        "\n",
        "    learning_rate = 0.1\n",
        "    optimizer = torch.optim.SGD(model.parameters(), lr = learning_rate)\n",
        "    early_stopping = EarlyStopping(patience=4, verbose=True, path='/content/.checkpoints/model_checkpoint.pt')\n",
        "    train_acc_avarage = []\n",
        "    test_acc_avarage = []\n",
        "\n",
        "    for epoch in range(1,EPOCHS):\n",
        "\n",
        "      train_loss = 0\n",
        "\n",
        "      ## TRAIN STEP\n",
        "\n",
        "      for x_train, y_train in train_loader:\n",
        "\n",
        "        x_train, y_train = x_train.to(device), y_train.to(device)\n",
        "\n",
        "\n",
        "        loss = train(model, x_train, y_train)\n",
        "\n",
        "        train_loss += loss\n",
        "\n",
        "      train_loss /= len(train_loader)                    # we divide by the number of batches\n",
        "      train_losses.append(train_loss)\n",
        "\n",
        "      ## TEST STEP\n",
        "\n",
        "      if epoch % 100 == 0:\n",
        "\n",
        "        train_acc, test_acc = evaluate(model, train_loader, test_loader)\n",
        "\n",
        "        train_acc_avarage.append(train_acc)\n",
        "        test_acc_avarage.append(test_acc)\n",
        "\n",
        "        print(\"Epoch:\", epoch, \"Loss:\", float(train_loss))\n",
        "\n",
        "      if early_stopping.early_stop:\n",
        "        train_acc, test_acc = evaluate(model, train_loader, test_loader)\n",
        "\n",
        "        train_acc_a\n",
        "        varage.append(train_acc)\n",
        "        test_acc_avarage.append(test_acc)\n",
        "        print(\"Early stopping triggered.\")\n",
        "        break\n",
        "\n",
        "  train_acc_av = mean(train_acc_avarage)\n",
        "  test_acc_av = mean(test_acc_avarage)\n",
        "  train_accuracies.append(train_acc_av)\n",
        "  test_accuracies.append(test_acc_av)\n"
      ],
      "metadata": {
        "colab": {
          "base_uri": "https://localhost:8080/"
        },
        "id": "0SPkkhVhNhSo",
        "outputId": "f82b795f-d022-4746-ec7e-1bff24778e13"
      },
      "execution_count": 10,
      "outputs": [
        {
          "metadata": {
            "tags": null
          },
          "name": "stderr",
          "output_type": "stream",
          "text": [
            "No CUDA runtime is found, using CUDA_HOME='/usr/local/cuda'\n",
            "W0528 08:53:11.784000 133430971260928 torch/_logging/_internal.py:1013] [2/0] Profiler function <class 'torch.autograd.profiler.record_function'> will be ignored\n"
          ]
        },
        {
          "metadata": {
            "tags": null
          },
          "name": "stdout",
          "output_type": "stream",
          "text": [
            "Epoch: 100 Loss: 1.5602396176411555\n",
            "Epoch: 100 Loss: 1.5690260116870587\n",
            "Epoch: 100 Loss: 1.483287710409898\n"
          ]
        },
        {
          "metadata": {
            "tags": null
          },
          "name": "stderr",
          "output_type": "stream",
          "text": [
            "W0528 08:54:25.118000 133430971260928 torch/_dynamo/convert_frame.py:357] torch._dynamo hit config.cache_size_limit (8)\n",
            "W0528 08:54:25.118000 133430971260928 torch/_dynamo/convert_frame.py:357]    function: 'step' (/usr/local/lib/python3.10/dist-packages/torch/optim/sgd.py:60)\n",
            "W0528 08:54:25.118000 133430971260928 torch/_dynamo/convert_frame.py:357]    last reason: len(L['self'].state) == 6                                   \n",
            "W0528 08:54:25.118000 133430971260928 torch/_dynamo/convert_frame.py:357] To log all recompilation reasons, use TORCH_LOGS=\"recompiles\".\n",
            "W0528 08:54:25.118000 133430971260928 torch/_dynamo/convert_frame.py:357] To diagnose recompilation issues, see https://pytorch.org/docs/master/compile/troubleshooting.html.\n"
          ]
        },
        {
          "output_type": "stream",
          "name": "stdout",
          "text": [
            "Epoch: 100 Loss: 1.4679612196408784\n",
            "Epoch: 100 Loss: 1.4799743799062877\n",
            "Epoch: 100 Loss: 1.4678118870808528\n",
            "Epoch: 100 Loss: 1.4677881002426147\n",
            "Epoch: 100 Loss: 1.4675741103979258\n",
            "Epoch: 100 Loss: 1.4619908516223614\n",
            "Epoch: 100 Loss: 1.4611551211430476\n",
            "Epoch: 100 Loss: 1.4865451592665453\n",
            "Epoch: 100 Loss: 1.468832327769353\n",
            "Epoch: 100 Loss: 1.4676568599847646\n",
            "Epoch: 100 Loss: 1.4677387751065767\n",
            "Epoch: 100 Loss: 1.4751051114155695\n",
            "Epoch: 100 Loss: 1.4674045856182392\n",
            "Epoch: 100 Loss: 1.4730939590013945\n",
            "Epoch: 100 Loss: 1.4707111578721266\n",
            "Epoch: 100 Loss: 1.4759497092320368\n",
            "Epoch: 100 Loss: 1.4684306841630201\n",
            "Epoch: 100 Loss: 1.4757979924862201\n",
            "Epoch: 100 Loss: 1.4757853471315825\n",
            "Epoch: 100 Loss: 1.4760256088696992\n",
            "Epoch: 100 Loss: 1.4725936192732592\n",
            "Epoch: 100 Loss: 1.4711977243423462\n",
            "Epoch: 100 Loss: 1.468932738670936\n",
            "Epoch: 100 Loss: 1.4679042742802546\n",
            "Epoch: 100 Loss: 1.4660148528906016\n",
            "Epoch: 100 Loss: 1.4655321744772105\n",
            "Epoch: 100 Loss: 1.464212912779588\n",
            "Epoch: 100 Loss: 1.4735392423776479\n",
            "Epoch: 100 Loss: 1.4689885561282818\n",
            "Epoch: 100 Loss: 1.468892739369319\n",
            "Epoch: 100 Loss: 1.4689085575250478\n",
            "Epoch: 100 Loss: 1.4655821506793683\n",
            "Epoch: 100 Loss: 1.4650175754840558\n",
            "Epoch: 100 Loss: 1.4688065235431378\n",
            "Epoch: 100 Loss: 1.4673353708707368\n",
            "Epoch: 100 Loss: 1.468753383709834\n",
            "Epoch: 100 Loss: 1.4666745295891395\n",
            "Epoch: 100 Loss: 1.469731092453003\n",
            "Epoch: 100 Loss: 1.4710119870992808\n",
            "Epoch: 100 Loss: 1.4695463730738714\n",
            "Epoch: 100 Loss: 1.4676606746820302\n",
            "Epoch: 100 Loss: 1.4669155799425566\n",
            "Epoch: 100 Loss: 1.4666814345579882\n",
            "Epoch: 100 Loss: 1.469958314528832\n",
            "Epoch: 100 Loss: 1.4654981723198524\n",
            "Epoch: 100 Loss: 1.4651272296905518\n",
            "Epoch: 100 Loss: 1.4626754430624156\n",
            "Epoch: 100 Loss: 1.4718898167976966\n",
            "Epoch: 100 Loss: 1.4708398488851695\n",
            "Epoch: 100 Loss: 1.4684822467657237\n",
            "Epoch: 100 Loss: 1.4675970352613008\n",
            "Epoch: 100 Loss: 1.4698298160846417\n",
            "Epoch: 100 Loss: 1.4672212967505822\n",
            "Epoch: 100 Loss: 1.4692949515122633\n",
            "Epoch: 100 Loss: 1.468080997467041\n",
            "Epoch: 100 Loss: 1.467335114112267\n",
            "Epoch: 100 Loss: 1.4687155485153198\n",
            "Epoch: 100 Loss: 1.4691945772904615\n",
            "Epoch: 100 Loss: 1.4705012303132277\n",
            "Epoch: 100 Loss: 1.473944407242995\n",
            "Epoch: 100 Loss: 1.469041530902569\n",
            "Epoch: 100 Loss: 1.4673996980373676\n",
            "Epoch: 100 Loss: 1.4701510667800903\n",
            "Epoch: 100 Loss: 1.47047535272745\n",
            "Epoch: 100 Loss: 1.4671785739751964\n",
            "Epoch: 100 Loss: 1.4695845200465276\n",
            "Epoch: 100 Loss: 1.4698895307687612\n",
            "Epoch: 100 Loss: 1.4706967977377086\n",
            "Epoch: 100 Loss: 1.4683773242510283\n",
            "Epoch: 100 Loss: 1.4712883509122407\n",
            "Epoch: 100 Loss: 1.4676931362885695\n",
            "Epoch: 100 Loss: 1.4667963523131151\n",
            "Epoch: 100 Loss: 1.4696654356442964\n",
            "Epoch: 100 Loss: 1.4683831746761615\n",
            "Epoch: 100 Loss: 1.468765451357915\n",
            "Epoch: 100 Loss: 1.4677118704869196\n",
            "Epoch: 100 Loss: 1.4708605729616606\n",
            "Epoch: 100 Loss: 1.4712011447319617\n",
            "Epoch: 100 Loss: 1.4696185497137217\n",
            "Epoch: 100 Loss: 1.4714458630635188\n",
            "Epoch: 100 Loss: 1.4717592734556932\n",
            "Epoch: 100 Loss: 1.4676661124596229\n",
            "Epoch: 100 Loss: 1.4691213736167321\n",
            "Epoch: 100 Loss: 1.4714375459230864\n",
            "Epoch: 100 Loss: 1.4689478048911462\n",
            "Epoch: 100 Loss: 1.4694136472848744\n",
            "Epoch: 100 Loss: 1.4711925433232234\n",
            "Epoch: 100 Loss: 1.471624466089102\n",
            "Epoch: 100 Loss: 1.4676693219404955\n",
            "Epoch: 100 Loss: 1.4706042913290172\n",
            "Epoch: 100 Loss: 1.4697037385060236\n",
            "Epoch: 100 Loss: 1.4691651234259973\n",
            "Epoch: 100 Loss: 1.4730203243402333\n",
            "Epoch: 100 Loss: 1.4697357782950768\n",
            "Epoch: 100 Loss: 1.4711138285123384\n",
            "Epoch: 100 Loss: 1.4724747767815223\n",
            "Epoch: 100 Loss: 1.469016093474168\n",
            "Epoch: 100 Loss: 1.4701799979576697\n",
            "Epoch: 100 Loss: 1.471168197118319\n",
            "Epoch: 100 Loss: 1.4678569940420299\n",
            "Epoch: 100 Loss: 1.4679736265769372\n",
            "Epoch: 100 Loss: 1.4688190313485951\n",
            "Epoch: 100 Loss: 1.4677613240021925\n",
            "Epoch: 100 Loss: 1.4703212334559514\n",
            "Epoch: 100 Loss: 1.4684690970640917\n",
            "Epoch: 100 Loss: 1.470033150452834\n",
            "Epoch: 100 Loss: 1.46716348024515\n"
          ]
        }
      ]
    },
    {
      "cell_type": "code",
      "source": [
        "data = [n_train * i/ratio for i in range(1, ratio)]\n",
        "\n",
        "plt.plot(data, train_accuracies, label = \"Train\")\n",
        "plt.plot(data, test_accuracies, label = \"Test\")\n",
        "\n",
        "plt.xlabel(\"Data\")\n",
        "plt.ylabel(\"Accuracy\")\n",
        "\n",
        "\n",
        "plt.legend()\n",
        "\n",
        "plt.show()"
      ],
      "metadata": {
        "colab": {
          "base_uri": "https://localhost:8080/",
          "height": 469
        },
        "id": "tGzOryQhNhPC",
        "outputId": "4f862e16-ba7f-4822-9a57-83ebb6c9f27e"
      },
      "execution_count": 11,
      "outputs": [
        {
          "output_type": "display_data",
          "data": {
            "text/plain": [
              "<Figure size 640x480 with 1 Axes>"
            ],
            "image/png": "[encoded data removed]"
          },
          "metadata": {}
        }
      ]
    },
    {
      "cell_type": "code",
      "source": [
        "train_accuracies"
      ],
      "metadata": {
        "colab": {
          "base_uri": "https://localhost:8080/",
          "height": 161
        },
        "id": "YtOKn-FDNhKR",
        "outputId": "325befe9-01f4-4674-d80f-1e95775e1eb3"
      },
      "execution_count": 1,
      "outputs": [
        {
          "output_type": "error",
          "ename": "NameError",
          "evalue": "name 'train_accuracies' is not defined",
          "traceback": [
            "\u001b[0;31m---------------------------------------------------------------------------\u001b[0m",
            "\u001b[0;31mNameError\u001b[0m                                 Traceback (most recent call last)",
            "\u001b[0;32m<ipython-input-1-80b48d7a99d7>\u001b[0m in \u001b[0;36m<cell line: 1>\u001b[0;34m()\u001b[0m\n\u001b[0;32m----> 1\u001b[0;31m \u001b[0mtrain_accuracies\u001b[0m\u001b[0;34m\u001b[0m\u001b[0;34m\u001b[0m\u001b[0m\n\u001b[0m",
            "\u001b[0;31mNameError\u001b[0m: name 'train_accuracies' is not defined"
          ]
        }
      ]
    },
    {
      "cell_type": "code",
      "source": [
        "test_accuracies"
      ],
      "metadata": {
        "colab": {
          "base_uri": "https://localhost:8080/",
          "height": 161
        },
        "id": "aVt0WYCANhE6",
        "outputId": "c85c5b86-bcb3-4edf-cdd7-5d1badd7fa0c"
      },
      "execution_count": 2,
      "outputs": [
        {
          "output_type": "error",
          "ename": "NameError",
          "evalue": "name 'test_accuracies' is not defined",
          "traceback": [
            "\u001b[0;31m---------------------------------------------------------------------------\u001b[0m",
            "\u001b[0;31mNameError\u001b[0m                                 Traceback (most recent call last)",
            "\u001b[0;32m<ipython-input-2-281e75de1b8f>\u001b[0m in \u001b[0;36m<cell line: 1>\u001b[0;34m()\u001b[0m\n\u001b[0;32m----> 1\u001b[0;31m \u001b[0mtest_accuracies\u001b[0m\u001b[0;34m\u001b[0m\u001b[0;34m\u001b[0m\u001b[0m\n\u001b[0m",
            "\u001b[0;31mNameError\u001b[0m: name 'test_accuracies' is not defined"
          ]
        }
      ]
    },
    {
      "cell_type": "code",
      "source": [],
      "metadata": {
        "id": "KAXOWy8oG_LB"
      },
      "execution_count": null,
      "outputs": []
    }
  ]
}