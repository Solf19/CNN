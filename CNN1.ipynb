{
  "cells": [
    {
      "cell_type": "markdown",
      "metadata": {
        "id": "view-in-github",
        "colab_type": "text"
      },
      "source": [
        "<a href=\"https://colab.research.google.com/github/Solf19/CNN/blob/main/CNN1.ipynb\" target=\"_parent\"><img src=\"https://colab.research.google.com/assets/colab-badge.svg\" alt=\"Open In Colab\"/></a>"
      ]
    },
    {
      "cell_type": "code",
      "execution_count": null,
      "metadata": {
        "id": "-LN3Dgm_FAKX"
      },
      "outputs": [],
      "source": [
        "import torch\n",
        "from torch import nn\n",
        "from torch import optim\n",
        "import matplotlib.pyplot as plt\n",
        "import matplotlib.ticker as mtick\n",
        "import torchvision\n",
        "path_data = 'MyDrive/Progetto Deep/Data/'\n",
        "path_mount = '/content/drive/'\n",
        "\n",
        "from google.colab import drive\n",
        "drive.mount('/content/drive')\n",
        "\n",
        "subject = 'CNN1'"
      ]
    },
    {
      "cell_type": "code",
      "execution_count": null,
      "metadata": {
        "colab": {
          "base_uri": "https://localhost:8080/"
        },
        "id": "8RPdfc-UFLV4",
        "outputId": "b13cd343-28ef-4101-ec03-923ae6618f4b"
      },
      "outputs": [
        {
          "output_type": "stream",
          "name": "stdout",
          "text": [
            "cpu\n"
          ]
        }
      ],
      "source": [
        "device = torch.device(\"cuda:0\" if torch.cuda.is_available() else \"cpu\")\n",
        "\n",
        "print(device)"
      ]
    },
    {
      "cell_type": "code",
      "execution_count": null,
      "metadata": {
        "id": "DLyyU0DdFLT0"
      },
      "outputs": [],
      "source": [
        "input_dim = 28*28\n",
        "hidden_dim = 10\n",
        "out_dim = 10\n",
        "\n",
        "\n",
        "class ConvolutionalNetwork(nn.Module):\n",
        "\n",
        "  def __init__(self, input_dim, out_dim):\n",
        "\n",
        "    super(ConvolutionalNetwork, self).__init__()\n",
        "    # Convolutional Neural Network Layer\n",
        "    self.convolutaional_neural_network_layers = nn.Sequential(\n",
        "                            nn.Conv2d(in_channels=1, out_channels=5, kernel_size=(3,3), padding=1, stride=1), # (N, 1, 28, 28)\n",
        "                            nn.ReLU(),\n",
        "                            nn.MaxPool2d(kernel_size=2, stride=2, padding=0),\n",
        "                            nn.Conv2d(in_channels=5, out_channels=5, kernel_size=(3,3), padding=1, stride=1),\n",
        "                            nn.ReLU(),\n",
        "                            nn.MaxPool2d(kernel_size=2, stride=2, padding=0)\n",
        "        )\n",
        "\n",
        "    # Linear layer\n",
        "    self.linear_layers = nn.Sequential(\n",
        "                nn.Dropout(p=0.2), # Dropout with probability of 0.2 to avoid overfitting\n",
        "                nn.Linear(in_features=5*7*7, out_features=out_dim),\n",
        "        )\n",
        "\n",
        "    #Softmax\n",
        "    self.soft = nn.Softmax(dim=1)\n",
        "\n",
        "\n",
        "  # Defining the forward pass\n",
        "  def forward(self, x):\n",
        "        x = self.convolutaional_neural_network_layers(x)\n",
        "        x = x.view(x.size(0), -1)  # Flatten the tensor for the linear layer\n",
        "        x = self.linear_layers(x)\n",
        "\n",
        "        x = self.soft(x)\n",
        "\n",
        "        return x"
      ]
    },
    {
      "cell_type": "code",
      "execution_count": null,
      "metadata": {
        "id": "e8_nD4nEFLRR"
      },
      "outputs": [],
      "source": [
        "model = ConvolutionalNetwork(input_dim, out_dim).to(device)\n",
        "\n",
        "if device.type != \"cpu\":\n",
        "  model = torch.compile(model)\n",
        "else:\n",
        "  model = torch.compile(model, mode = \"max-autotune-no-cudagraphs\", dynamic=True)\n"
      ]
    },
    {
      "cell_type": "code",
      "execution_count": null,
      "metadata": {
        "id": "YNq-I_KqFLOo"
      },
      "outputs": [],
      "source": [
        "loss_function = nn.CrossEntropyLoss()"
      ]
    },
    {
      "cell_type": "code",
      "execution_count": null,
      "metadata": {
        "id": "Q5PbnRdTFLLC"
      },
      "outputs": [],
      "source": [
        "def accuracy(y_pred, y):\n",
        "\n",
        "  pred = y_pred.detach().argmax(dim=1)\n",
        "  corrects = (pred == y)\n",
        "\n",
        "  accuracy = (corrects.sum()/corrects.size(0)).float()\n",
        "\n",
        "  return accuracy\n",
        "\n",
        "def evaluate(model, train_loader, test_loader):\n",
        "\n",
        "  # initialize the accuracy as 0\n",
        "\n",
        "  acc_train, acc_test = 0, 0\n",
        "\n",
        "  with torch.no_grad():\n",
        "\n",
        "    for x_train, y_train in train_loader:\n",
        "\n",
        "      x_train, y_train = x_train.to(device), y_train.to(device)        # remember that we need to load our data into the GPUs\n",
        "\n",
        "      out = model(x_train).squeeze()\n",
        "      acc_train += accuracy(out, y_train)\n",
        "\n",
        "    for x_test, y_test in test_loader:\n",
        "\n",
        "      x_test, y_test = x_test.to(device), y_test.to(device)\n",
        "\n",
        "      out = model(x_test).squeeze()\n",
        "      acc_test += accuracy(out, y_test)\n",
        "\n",
        "    acc_train, acc_test = acc_train / len(train_loader), acc_test / len(test_loader)\n",
        "\n",
        "  return float(acc_train.detach()) * 100, float(acc_test.detach()) * 100\n",
        "\n",
        "def train(model, x, y):\n",
        "\n",
        "  out = model(x)\n",
        "  loss = loss_function(out.squeeze(), y)\n",
        "\n",
        "  optimizer.zero_grad()\n",
        "  loss.backward()\n",
        "\n",
        "  optimizer.step()\n",
        "  return float(loss)\n",
        "\n",
        "if device.type != \"cpu\":\n",
        "  accuracy = torch.compile(accuracy)\n",
        "  train = torch.compile(train)\n",
        "else:\n",
        "  accuracy = torch.compile(accuracy, mode = \"max-autotune-no-cudagraphs\", dynamic=True)\n",
        "  train = torch.compile(train, mode = \"max-autotune-no-cudagraphs\", dynamic=True)\n"
      ]
    },
    {
      "cell_type": "code",
      "source": [
        "class EarlyStopping:\n",
        "  def __init__(self, patience=5, delta=0, verbose=False, path='checkpoint.pt'):\n",
        "    self.patience = patience       # Number of epochs to wait for improvement\n",
        "    self.delta = delta             # Minimum change in monitored metric to qualify as improvement\n",
        "    self.verbose = verbose         # If True, print a message when validation metric improves\n",
        "    self.path = path               # Path to save the model checkpoint\n",
        "    self.counter = 0               # Counter to track epochs without improvement\n",
        "    self.best_score = None         # Best validation metric achieved so far\n",
        "    self.early_stop = False        # Flag to indicate whether to stop training\n",
        "\n",
        "  def __call__(self, val_metric, model):\n",
        "    if self.best_score is None:\n",
        "      self.best_score = val_metric\n",
        "      self.save_checkpoint(model)\n",
        "    elif val_metric > self.best_score + self.delta:\n",
        "      self.counter += 1\n",
        "      if self.verbose:\n",
        "        print(f'Epochs without improvement: {self.counter}')\n",
        "      if self.counter >= self.patience:\n",
        "                self.early_stop = True\n",
        "    else:\n",
        "      self.best_score = val_metric\n",
        "      self.save_checkpoint(model)\n",
        "      self.counter = 0\n",
        "\n",
        "  def save_checkpoint(self, model):\n",
        "    torch.save(model.state_dict(), self.path)\n"
      ],
      "metadata": {
        "id": "gNUiKlx6HO59"
      },
      "execution_count": null,
      "outputs": []
    },
    {
      "cell_type": "code",
      "source": [
        "! mkdir /content/.checkpoints"
      ],
      "metadata": {
        "id": "JGt2MN67L0P2",
        "colab": {
          "base_uri": "https://localhost:8080/"
        },
        "outputId": "ae0ee7b4-67a0-449f-9c2e-49ff2ef55a56"
      },
      "execution_count": null,
      "outputs": [
        {
          "output_type": "stream",
          "name": "stdout",
          "text": [
            "mkdir: cannot create directory ‘/content/.checkpoints’: File exists\n"
          ]
        }
      ]
    },
    {
      "cell_type": "code",
      "execution_count": null,
      "metadata": {
        "id": "KhIskIJFFLEZ"
      },
      "outputs": [],
      "source": [
        "n_train = 8000\n",
        "n_test = 500\n",
        "ratio = 12\n",
        "\n",
        "batch_size_train = 300\n",
        "batch_size_test = n_test\n",
        "\n",
        "transform = torchvision.transforms.Compose([\n",
        "                               torchvision.transforms.ToTensor(),\n",
        "                               torchvision.transforms.Normalize(\n",
        "                                 (0.1307,), (0.3081,))\n",
        "                             ])\n",
        "## TEST SET\n",
        "\n",
        "dataset_test =  torchvision.datasets.MNIST('./files/', train=False, download=True,\n",
        "                             transform=transform)\n",
        "\n",
        "dataset_test.data, dataset_test.targets = dataset_test.data[:n_test], dataset_test.targets[:n_test]\n",
        "\n",
        "test_loader = torch.utils.data.DataLoader(dataset_test, batch_size = batch_size_test, shuffle = False)\n"
      ]
    },
    {
      "cell_type": "code",
      "execution_count": null,
      "metadata": {
        "colab": {
          "base_uri": "https://localhost:8080/"
        },
        "id": "et5S4xksFK_k",
        "outputId": "2a091578-7061-4e0f-a70e-eec490a8267b"
      },
      "outputs": [
        {
          "output_type": "stream",
          "name": "stderr",
          "text": [
            "No CUDA runtime is found, using CUDA_HOME='/usr/local/cuda'\n",
            "W0530 08:29:38.371000 136689439051776 torch/_logging/_internal.py:1013] [2/0] Profiler function <class 'torch.autograd.profiler.record_function'> will be ignored\n"
          ]
        },
        {
          "output_type": "stream",
          "name": "stdout",
          "text": [
            "Epoch: 100 Loss: 1.8314761519432068 data: 666 train_acc 65.99999666213989 test_acc 59.3999981880188\n",
            "Epoch: 100 Loss: 1.6554357707500458 data: 1333 train_acc 81.5833330154419 test_acc 76.80000066757202\n",
            "Epoch: 100 Loss: 1.5247490207354228 data: 2000 train_acc 94.33333277702332 test_acc 90.6000018119812\n"
          ]
        },
        {
          "output_type": "stream",
          "name": "stderr",
          "text": [
            "W0530 08:34:52.337000 136689439051776 torch/_dynamo/convert_frame.py:357] torch._dynamo hit config.cache_size_limit (8)\n",
            "W0530 08:34:52.337000 136689439051776 torch/_dynamo/convert_frame.py:357]    function: 'step' (/usr/local/lib/python3.10/dist-packages/torch/optim/sgd.py:60)\n",
            "W0530 08:34:52.337000 136689439051776 torch/_dynamo/convert_frame.py:357]    last reason: len(L['self'].state) == 6                                   \n",
            "W0530 08:34:52.337000 136689439051776 torch/_dynamo/convert_frame.py:357] To log all recompilation reasons, use TORCH_LOGS=\"recompiles\".\n",
            "W0530 08:34:52.337000 136689439051776 torch/_dynamo/convert_frame.py:357] To diagnose recompilation issues, see https://pytorch.org/docs/master/compile/troubleshooting.html.\n"
          ]
        },
        {
          "output_type": "stream",
          "name": "stdout",
          "text": [
            "Epoch: 100 Loss: 1.5061004012823105 data: 2666 train_acc 95.74999809265137 test_acc 93.80000233650208\n",
            "Epoch: 100 Loss: 1.4957189234820278 data: 3333 train_acc 96.96969985961914 test_acc 94.19999718666077\n",
            "Epoch: 100 Loss: 1.493720375574552 data: 4000 train_acc 97.20513224601746 test_acc 95.99999785423279\n",
            "Epoch: 100 Loss: 1.488448683420817 data: 4666 train_acc 97.35555052757263 test_acc 94.9999988079071\n",
            "Epoch: 100 Loss: 1.4895500575794893 data: 5333 train_acc 97.13726043701172 test_acc 95.59999704360962\n",
            "Epoch: 100 Loss: 1.4912426352500916 data: 6000 train_acc 97.53333926200867 test_acc 94.59999799728394\n",
            "Epoch: 100 Loss: 1.487313693219965 data: 6666 train_acc 97.59090542793274 test_acc 93.99999976158142\n",
            "Epoch: 100 Loss: 1.4875336835781734 data: 7333 train_acc 97.29166626930237 test_acc 95.39999961853027\n"
          ]
        }
      ],
      "source": [
        "\n",
        "train_losses = []\n",
        "train_accuracies = []\n",
        "test_accuracies = []\n",
        "\n",
        "\n",
        "\n",
        "for i in range (1,ratio):\n",
        "  ## TRAIN SET\n",
        "\n",
        "  n_train_loop = int(n_train * i / ratio)\n",
        "\n",
        "  #batch_size_train_loop = int(batch_size_train * i / ratio)\n",
        "  dataset_train = torchvision.datasets.MNIST('./files/', train=True, download=True,\n",
        "                          transform=transform)\n",
        "  dataset_train.data, dataset_train.targets = dataset_train.data[:n_train_loop], dataset_train.targets[:n_train_loop]\n",
        "\n",
        "  train_loader = torch.utils.data.DataLoader(dataset_train, batch_size = batch_size_train,\n",
        "                                              shuffle = True,  drop_last = True)\n",
        "  EPOCHS = 101\n",
        "\n",
        "\n",
        "  #model = ConvolutionalNetwork(input_dim, out_dim).to(device)\n",
        "  learning_rate = 0.1\n",
        "  optimizer = torch.optim.SGD(model.parameters(), lr = learning_rate)\n",
        "  early_stopping = EarlyStopping(patience=4, verbose=True, path='/content/.checkpoints/model_checkpoint.pt')\n",
        "  for epoch in range(1,EPOCHS):\n",
        "\n",
        "    train_loss = 0\n",
        "\n",
        "    ## TRAIN STEP\n",
        "\n",
        "    for x_train, y_train in train_loader:\n",
        "\n",
        "      x_train, y_train = x_train.to(device), y_train.to(device)\n",
        "\n",
        "\n",
        "      loss = train(model, x_train, y_train)\n",
        "\n",
        "      train_loss += loss\n",
        "\n",
        "    train_loss /= len(train_loader)                    # we divide by the number of batches\n",
        "    train_losses.append(train_loss)\n",
        "\n",
        "    ## TEST STEP\n",
        "\n",
        "    if epoch % 100 == 0:\n",
        "\n",
        "      train_acc, test_acc = evaluate(model, train_loader, test_loader)\n",
        "\n",
        "      train_accuracies.append(train_acc)\n",
        "      test_accuracies.append(test_acc)\n",
        "      print(\"Epoch:\", epoch, \"Loss:\", float(train_loss), \"data:\", len(dataset_train.data), \"train_acc\", train_acc, \"test_acc\", test_acc)\n",
        "\n",
        "\n",
        "    if early_stopping.early_stop:\n",
        "      train_acc, test_acc = evaluate(model, train_loader, test_loader)\n",
        "\n",
        "      train_accuracies.append(train_acc)\n",
        "      test_accuracies.append(test_acc)\n",
        "      print(\"Early stopping triggered.\")\n",
        "      break\n",
        "\n",
        "\n"
      ]
    },
    {
      "cell_type": "code",
      "execution_count": null,
      "metadata": {
        "id": "sbGdHsSoFK3W",
        "colab": {
          "base_uri": "https://localhost:8080/",
          "height": 469
        },
        "outputId": "2645cbc9-106e-42fe-c487-6bb00f227c79"
      },
      "outputs": [
        {
          "output_type": "display_data",
          "data": {
            "text/plain": [
              "<Figure size 640x480 with 1 Axes>"
            ],
            "image/png": "[encoded data removed]"
          },
          "metadata": {}
        }
      ],
      "source": [
        "data = [n_train * i/ratio for i in range(1, ratio)]\n",
        "\n",
        "plt.plot(data, train_accuracies, label = \"Train\")\n",
        "plt.plot(data, test_accuracies, label = \"Test\")\n",
        "\n",
        "plt.xlabel(\"Data\")\n",
        "plt.ylabel(\"Accuracy\")\n",
        "\n",
        "\n",
        "plt.legend()\n",
        "\n",
        "plt.show()"
      ]
    },
    {
      "cell_type": "code",
      "execution_count": null,
      "metadata": {
        "id": "dl7NnrMQFKxW",
        "colab": {
          "base_uri": "https://localhost:8080/"
        },
        "outputId": "1b301f2c-02d9-42b4-e83c-056cf609230e"
      },
      "outputs": [
        {
          "output_type": "stream",
          "name": "stdout",
          "text": [
            "[[1.   0.   0.   0.   0.   0.   0.   0.   0.   0.  ]\n",
            " [0.   1.   0.   0.   0.   0.   0.   0.   0.   0.  ]\n",
            " [0.   0.   0.95 0.04 0.   0.   0.   0.02 0.   0.  ]\n",
            " [0.   0.   0.   0.98 0.   0.02 0.   0.   0.   0.  ]\n",
            " [0.   0.   0.   0.   0.98 0.   0.02 0.   0.   0.  ]\n",
            " [0.   0.   0.   0.   0.   1.   0.   0.   0.   0.  ]\n",
            " [0.05 0.   0.   0.   0.   0.   0.95 0.   0.   0.  ]\n",
            " [0.   0.   0.   0.   0.   0.   0.   1.   0.   0.  ]\n",
            " [0.   0.   0.   0.   0.   0.   0.   0.   0.98 0.02]\n",
            " [0.   0.02 0.   0.   0.02 0.   0.   0.04 0.09 0.83]]\n"
          ]
        }
      ],
      "source": [
        "from sklearn.metrics import confusion_matrix\n",
        "import numpy as np\n",
        "model.eval()\n",
        "\n",
        "all_y = []\n",
        "all_predictions = []\n",
        "\n",
        "# Iterate over the dataset\n",
        "for x, y in test_loader:\n",
        "    x = x.to(device)\n",
        "\n",
        "    with torch.no_grad():\n",
        "        outputs = model(x)\n",
        "        _, predicted = torch.max(outputs, 1)\n",
        "\n",
        "    all_y.extend(y.numpy())\n",
        "    all_predictions.extend(predicted.cpu().numpy())\n",
        "\n",
        "all_y = np.array(all_y)\n",
        "all_predictions = np.array(all_predictions)\n",
        "\n",
        "conf_matrix = confusion_matrix(all_y, all_predictions, normalize = \"true\")\n",
        "\n",
        "print(conf_matrix.round(decimals=2))"
      ]
    },
    {
      "cell_type": "code",
      "execution_count": null,
      "metadata": {
        "id": "nTgBr7rMFKsY",
        "colab": {
          "base_uri": "https://localhost:8080/",
          "height": 446
        },
        "outputId": "acbe5913-23f1-447c-bdde-040e0c8249b5"
      },
      "outputs": [
        {
          "output_type": "display_data",
          "data": {
            "text/plain": [
              "<Figure size 600x400 with 2 Axes>"
            ],
            "image/png": "[encoded data removed]"
          },
          "metadata": {}
        }
      ],
      "source": [
        "classes =dataset_test.classes\n",
        "\n",
        "plt.figure(figsize=(6, 4))\n",
        "plt.imshow(conf_matrix)\n",
        "plt.title(\"Confusion matrix\")\n",
        "plt.colorbar()\n",
        "\n",
        "tick_marks = np.arange(len(classes))\n",
        "plt.xticks(tick_marks, classes, rotation=45)\n",
        "plt.yticks(tick_marks, classes)\n",
        "\n",
        "\n",
        "plt.tight_layout()\n",
        "plt.ylabel('True label')\n",
        "plt.xlabel('Predicted label')\n",
        "\n",
        "plt.show()"
      ]
    },
    {
      "cell_type": "code",
      "source": [
        "file_path = os.path.join(path_mount, path_data, subject)\n",
        "np.save(file_path, test_accuracies)\n",
        "print(file_path)"
      ],
      "metadata": {
        "id": "3RokSnUmu0qi"
      },
      "execution_count": null,
      "outputs": []
    }
  ],
  "metadata": {
    "colab": {
      "provenance": [],
      "authorship_tag": "ABX9TyO5tHKNe8+2CUUYy/6zfr43",
      "include_colab_link": true
    },
    "kernelspec": {
      "display_name": "Python 3",
      "name": "python3"
    },
    "language_info": {
      "name": "python"
    }
  },
  "nbformat": 4,
  "nbformat_minor": 0
}